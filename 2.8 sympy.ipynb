{
 "cells": [
  {
   "cell_type": "code",
   "execution_count": 33,
   "metadata": {},
   "outputs": [],
   "source": [
    "import sympy as sp\n",
    "sp.init_printing(use_unicode=True)"
   ]
  },
  {
   "cell_type": "code",
   "execution_count": 11,
   "metadata": {},
   "outputs": [],
   "source": [
    "x, y, z = sp.symbols('x, y, z')"
   ]
  },
  {
   "cell_type": "code",
   "execution_count": 12,
   "metadata": {},
   "outputs": [],
   "source": [
    "f, g = sp.symbols('f, g', cls=sp.Function)"
   ]
  },
  {
   "cell_type": "markdown",
   "metadata": {},
   "source": [
    "***"
   ]
  },
  {
   "cell_type": "code",
   "execution_count": 13,
   "metadata": {},
   "outputs": [],
   "source": [
    "import sympy as sp"
   ]
  },
  {
   "cell_type": "code",
   "execution_count": 14,
   "metadata": {},
   "outputs": [
    {
     "data": {
      "image/png": "[encoded data removed]",
      "text/latex": [
       "$\\displaystyle \\left[ \\frac{- b - \\sqrt{- 4 a c + b^{2}}}{2 a}, \\  \\frac{- b + \\sqrt{- 4 a c + b^{2}}}{2 a}\\right]$"
      ],
      "text/plain": [
       "⎡        _____________          _____________⎤\n",
       "⎢       ╱           2          ╱           2 ⎥\n",
       "⎢-b - ╲╱  -4⋅a⋅c + b    -b + ╲╱  -4⋅a⋅c + b  ⎥\n",
       "⎢─────────────────────, ─────────────────────⎥\n",
       "⎣         2⋅a                    2⋅a         ⎦"
      ]
     },
     "execution_count": 14,
     "metadata": {},
     "output_type": "execute_result"
    }
   ],
   "source": [
    "a, b, c, x = sp.var('a b c x')\n",
    "f = a*x**2 + b*x + c\n",
    "sp.solve(f, x)\n"
   ]
  },
  {
   "cell_type": "markdown",
   "metadata": {},
   "source": [
    "***"
   ]
  },
  {
   "cell_type": "code",
   "execution_count": 15,
   "metadata": {},
   "outputs": [
    {
     "data": {
      "image/png": "[encoded data removed]",
      "text/latex": [
       "$\\displaystyle \\left[ \\left( - \\frac{\\sqrt{2}}{2}, \\  - \\frac{\\sqrt{2}}{2}\\right), \\  \\left( \\frac{\\sqrt{2}}{2}, \\  \\frac{\\sqrt{2}}{2}\\right)\\right]$"
      ],
      "text/plain": [
       "⎡⎛-√2   -√2 ⎞  ⎛√2  √2⎞⎤\n",
       "⎢⎜────, ────⎟, ⎜──, ──⎟⎥\n",
       "⎣⎝ 2     2  ⎠  ⎝2   2 ⎠⎦"
      ]
     },
     "execution_count": 15,
     "metadata": {},
     "output_type": "execute_result"
    }
   ],
   "source": [
    "x1, x2 = sp.symbols('x1 x2')\n",
    "sp.solve([x1**2 + x2**2 - 1, x1 - x2], [x1, x2])"
   ]
  },
  {
   "cell_type": "markdown",
   "metadata": {},
   "source": [
    "**or in scipy**"
   ]
  },
  {
   "cell_type": "code",
   "execution_count": 16,
   "metadata": {},
   "outputs": [
    {
     "data": {
      "text/plain": [
       "    fjac: array([[-0.81649679, -0.57734998],\n",
       "       [ 0.57734998, -0.81649679]])\n",
       "     fun: array([4.4408921e-16, 0.0000000e+00])\n",
       " message: 'The solution converged.'\n",
       "    nfev: 9\n",
       "     qtf: array([-3.64625238e-10,  2.57828785e-10])\n",
       "       r: array([-1.73205167, -0.57735171,  1.63299357])\n",
       "  status: 1\n",
       " success: True\n",
       "       x: array([0.70710678, 0.70710678])"
      ]
     },
     "execution_count": 16,
     "metadata": {},
     "output_type": "execute_result"
    }
   ],
   "source": [
    "from scipy.optimize import root\n",
    "fx = lambda x: [x[0]**2 + x[1]**2 - 1, x[0] - x[1]]\n",
    "root(fx, [1, 1])"
   ]
  },
  {
   "cell_type": "markdown",
   "metadata": {},
   "source": [
    "***"
   ]
  },
  {
   "cell_type": "code",
   "execution_count": 34,
   "metadata": {},
   "outputs": [
    {
     "data": {
      "text/latex": [
       "$\\displaystyle \\left[ \\left( -1.0, \\  1, \\  \\left[ \\left[\\begin{matrix}0\\\\-0.707106781186548\\\\0.707106781186548\\\\0\\end{matrix}\\right]\\right]\\right), \\  \\left( 1.0, \\  1, \\  \\left[ \\left[\\begin{matrix}0\\\\-0.707106781186548\\\\-0.707106781186548\\\\0\\end{matrix}\\right]\\right]\\right), \\  \\left( -1.0, \\  1, \\  \\left[ \\left[\\begin{matrix}0.707106781186548\\\\0\\\\0\\\\-0.707106781186548\\end{matrix}\\right]\\right]\\right), \\  \\left( 1.0, \\  1, \\  \\left[ \\left[\\begin{matrix}-0.707106781186548\\\\0\\\\0\\\\-0.707106781186548\\end{matrix}\\right]\\right]\\right)\\right]$"
      ],
      "text/plain": [
       "⎡⎛         ⎡⎡        0         ⎤⎤⎞  ⎛        ⎡⎡        0         ⎤⎤⎞  ⎛       \n",
       "⎢⎜         ⎢⎢                  ⎥⎥⎟  ⎜        ⎢⎢                  ⎥⎥⎟  ⎜       \n",
       "⎢⎜         ⎢⎢-0.707106781186548⎥⎥⎟  ⎜        ⎢⎢-0.707106781186548⎥⎥⎟  ⎜       \n",
       "⎢⎜-1.0, 1, ⎢⎢                  ⎥⎥⎟, ⎜1.0, 1, ⎢⎢                  ⎥⎥⎟, ⎜-1.0, 1\n",
       "⎢⎜         ⎢⎢0.707106781186548 ⎥⎥⎟  ⎜        ⎢⎢-0.707106781186548⎥⎥⎟  ⎜       \n",
       "⎢⎜         ⎢⎢                  ⎥⎥⎟  ⎜        ⎢⎢                  ⎥⎥⎟  ⎜       \n",
       "⎣⎝         ⎣⎣        0         ⎦⎦⎠  ⎝        ⎣⎣        0         ⎦⎦⎠  ⎝       \n",
       "\n",
       "  ⎡⎡0.707106781186548 ⎤⎤⎞  ⎛        ⎡⎡-0.707106781186548⎤⎤⎞⎤\n",
       "  ⎢⎢                  ⎥⎥⎟  ⎜        ⎢⎢                  ⎥⎥⎟⎥\n",
       "  ⎢⎢        0         ⎥⎥⎟  ⎜        ⎢⎢        0         ⎥⎥⎟⎥\n",
       ", ⎢⎢                  ⎥⎥⎟, ⎜1.0, 1, ⎢⎢                  ⎥⎥⎟⎥\n",
       "  ⎢⎢        0         ⎥⎥⎟  ⎜        ⎢⎢        0         ⎥⎥⎟⎥\n",
       "  ⎢⎢                  ⎥⎥⎟  ⎜        ⎢⎢                  ⎥⎥⎟⎥\n",
       "  ⎣⎣-0.707106781186548⎦⎦⎠  ⎝        ⎣⎣-0.707106781186548⎦⎦⎠⎦"
      ]
     },
     "execution_count": 34,
     "metadata": {},
     "output_type": "execute_result"
    }
   ],
   "source": [
    "from numpy import eye, rot90\n",
    "mat = sp.Matrix(rot90(eye(4)))\n",
    "#mat.eigenvals()\n",
    "mat.eigenvects()"
   ]
  }
 ],
 "metadata": {
  "kernelspec": {
   "display_name": "Python 3.9.12 ('mamo')",
   "language": "python",
   "name": "python3"
  },
  "language_info": {
   "codemirror_mode": {
    "name": "ipython",
    "version": 3
   },
   "file_extension": ".py",
   "mimetype": "text/x-python",
   "name": "python",
   "nbconvert_exporter": "python",
   "pygments_lexer": "ipython3",
   "version": "3.9.12"
  },
  "orig_nbformat": 4,
  "vscode": {
   "interpreter": {
    "hash": "bc4866e053c759d6a7b6c75a6ee7f30413af3cb1408278924a32b7c27fdde7d0"
   }
  }
 },
 "nbformat": 4,
 "nbformat_minor": 2
}
