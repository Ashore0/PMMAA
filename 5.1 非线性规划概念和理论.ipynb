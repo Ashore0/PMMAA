{
 "cells": [
  {
   "cell_type": "markdown",
   "metadata": {},
   "source": [
    "---\n",
    "### 5.1.1 非线性规划问题的数学模型\n",
    "$$\n",
    "\\begin{align*}\n",
    "&{\\rm min}\\ f(\\boldsymbol x),\\\\\n",
    "&{\\rm s.t.}\n",
    "\t\\begin{cases}\n",
    "\tg_i(\\boldsymbol x) \\leq 0, \\quad i=1,2,\\cdots,p,\\\\\n",
    "\th_j(\\boldsymbol x) = 0,\\quad  j=1,2,\\cdots,q.\n",
    "\t\\end{cases}\n",
    "\\end{align*}\n",
    "$$\n",
    "\n",
    "### 5.1.2 无约束非线性规划的求解\n",
    "无条件极值，利用黑塞矩阵\n",
    "\n",
    "### 5.1.3 有约束非线性规划的求解\n",
    "有条件极值，中心思想是转化为无约束规划\n",
    "1. 对于只有等式约束的非线性规划问题，利用拉格朗日乘数法\n",
    "$$\n",
    "\\nabla f\\left({\\boldsymbol x}^*\\right)+\\sum\\limits_{j=1}^q \\lambda_j^*\\,\\nabla h_j \\left({\\boldsymbol x}^*\\right)=0\n",
    "$$\n",
    "2. 对于一般形式的有约束非线性规划，利用罚函数法\n",
    "$$\n",
    "T({\\boldsymbol x}, M)=f(\\boldsymbol x)+M\\sum\\limits_{i=1}^p\\left[{\\rm max}\\ \\left\\{0, g_i(\\boldsymbol x)\\right\\}\\right] + M\\sum\\limits_{j=1}^q\\left[h_j(\\boldsymbol x)\\right]^2\n",
    "$$\n",
    "$$\n",
    "{\\rm min}\\ T({\\boldsymbol x, M}),\\ \\boldsymbol x \\in \\mathbb R^n\n",
    "$$\n",
    "\n",
    "### 5.1.4 凸规划\n",
    "凸函数的定义本质上是说凸函数上任意两点之间的线性连线不低于这个函数的值，或曲线上各点的切线在曲线之下"
   ]
  },
  {
   "cell_type": "code",
   "execution_count": 1,
   "metadata": {},
   "outputs": [
    {
     "ename": "GurobiError",
     "evalue": "HostID mismatch (licensed to 5d6fd038, hostid is 5d6fd39c)",
     "output_type": "error",
     "traceback": [
      "\u001b[0;31m---------------------------------------------------------------------------\u001b[0m",
      "\u001b[0;31mGurobiError\u001b[0m                               Traceback (most recent call last)",
      "\u001b[1;32m/mnt/d/Mamo/model/code/python/5.1 非线性规划概念和理论.ipynb Cell 2\u001b[0m in \u001b[0;36m<cell line: 11>\u001b[0;34m()\u001b[0m\n\u001b[1;32m      <a href='vscode-notebook-cell://wsl%2Bubuntu/mnt/d/Mamo/model/code/python/5.1%20%E9%9D%9E%E7%BA%BF%E6%80%A7%E8%A7%84%E5%88%92%E6%A6%82%E5%BF%B5%E5%92%8C%E7%90%86%E8%AE%BA.ipynb#X14sdnNjb2RlLXJlbW90ZQ%3D%3D?line=5'>6</a>\u001b[0m cons \u001b[39m=\u001b[39m [\n\u001b[1;32m      <a href='vscode-notebook-cell://wsl%2Bubuntu/mnt/d/Mamo/model/code/python/5.1%20%E9%9D%9E%E7%BA%BF%E6%80%A7%E8%A7%84%E5%88%92%E6%A6%82%E5%BF%B5%E5%92%8C%E7%90%86%E8%AE%BA.ipynb#X14sdnNjb2RlLXJlbW90ZQ%3D%3D?line=6'>7</a>\u001b[0m     \u001b[39m-\u001b[39mx[\u001b[39m0\u001b[39m] \u001b[39m+\u001b[39m x[\u001b[39m1\u001b[39m] \u001b[39m-\u001b[39m \u001b[39m2\u001b[39m \u001b[39m<\u001b[39m\u001b[39m=\u001b[39m \u001b[39m0\u001b[39m,\n\u001b[1;32m      <a href='vscode-notebook-cell://wsl%2Bubuntu/mnt/d/Mamo/model/code/python/5.1%20%E9%9D%9E%E7%BA%BF%E6%80%A7%E8%A7%84%E5%88%92%E6%A6%82%E5%BF%B5%E5%92%8C%E7%90%86%E8%AE%BA.ipynb#X14sdnNjb2RlLXJlbW90ZQ%3D%3D?line=7'>8</a>\u001b[0m     x[\u001b[39m0\u001b[39m]\u001b[39m*\u001b[39m\u001b[39m*\u001b[39m\u001b[39m2\u001b[39m \u001b[39m-\u001b[39m x[\u001b[39m1\u001b[39m] \u001b[39m+\u001b[39m \u001b[39m1\u001b[39m \u001b[39m<\u001b[39m\u001b[39m=\u001b[39m \u001b[39m0\u001b[39m,\n\u001b[1;32m      <a href='vscode-notebook-cell://wsl%2Bubuntu/mnt/d/Mamo/model/code/python/5.1%20%E9%9D%9E%E7%BA%BF%E6%80%A7%E8%A7%84%E5%88%92%E6%A6%82%E5%BF%B5%E5%92%8C%E7%90%86%E8%AE%BA.ipynb#X14sdnNjb2RlLXJlbW90ZQ%3D%3D?line=8'>9</a>\u001b[0m ]\n\u001b[1;32m     <a href='vscode-notebook-cell://wsl%2Bubuntu/mnt/d/Mamo/model/code/python/5.1%20%E9%9D%9E%E7%BA%BF%E6%80%A7%E8%A7%84%E5%88%92%E6%A6%82%E5%BF%B5%E5%92%8C%E7%90%86%E8%AE%BA.ipynb#X14sdnNjb2RlLXJlbW90ZQ%3D%3D?line=9'>10</a>\u001b[0m prob \u001b[39m=\u001b[39m cp\u001b[39m.\u001b[39mProblem(obj, cons)\n\u001b[0;32m---> <a href='vscode-notebook-cell://wsl%2Bubuntu/mnt/d/Mamo/model/code/python/5.1%20%E9%9D%9E%E7%BA%BF%E6%80%A7%E8%A7%84%E5%88%92%E6%A6%82%E5%BF%B5%E5%92%8C%E7%90%86%E8%AE%BA.ipynb#X14sdnNjb2RlLXJlbW90ZQ%3D%3D?line=10'>11</a>\u001b[0m prob\u001b[39m.\u001b[39;49msolve(solver\u001b[39m=\u001b[39;49m\u001b[39m'\u001b[39;49m\u001b[39mGUROBI\u001b[39;49m\u001b[39m'\u001b[39;49m)\n\u001b[1;32m     <a href='vscode-notebook-cell://wsl%2Bubuntu/mnt/d/Mamo/model/code/python/5.1%20%E9%9D%9E%E7%BA%BF%E6%80%A7%E8%A7%84%E5%88%92%E6%A6%82%E5%BF%B5%E5%92%8C%E7%90%86%E8%AE%BA.ipynb#X14sdnNjb2RlLXJlbW90ZQ%3D%3D?line=11'>12</a>\u001b[0m \u001b[39mprint\u001b[39m(\u001b[39mf\u001b[39m\u001b[39m'\u001b[39m\u001b[39m最优解为：\u001b[39m\u001b[39m{\u001b[39;00mx\u001b[39m.\u001b[39mvalue\u001b[39m}\u001b[39;00m\u001b[39m'\u001b[39m), \u001b[39mprint\u001b[39m(\u001b[39mf\u001b[39m\u001b[39m'\u001b[39m\u001b[39m最优值为：\u001b[39m\u001b[39m{\u001b[39;00mprob\u001b[39m.\u001b[39mvalue\u001b[39m}\u001b[39;00m\u001b[39m'\u001b[39m)\n",
      "File \u001b[0;32m~/anaconda3/envs/mamo/lib/python3.9/site-packages/cvxpy/problems/problem.py:481\u001b[0m, in \u001b[0;36mProblem.solve\u001b[0;34m(self, *args, **kwargs)\u001b[0m\n\u001b[1;32m    479\u001b[0m \u001b[39melse\u001b[39;00m:\n\u001b[1;32m    480\u001b[0m     solve_func \u001b[39m=\u001b[39m Problem\u001b[39m.\u001b[39m_solve\n\u001b[0;32m--> 481\u001b[0m \u001b[39mreturn\u001b[39;00m solve_func(\u001b[39mself\u001b[39;49m, \u001b[39m*\u001b[39;49margs, \u001b[39m*\u001b[39;49m\u001b[39m*\u001b[39;49mkwargs)\n",
      "File \u001b[0;32m~/anaconda3/envs/mamo/lib/python3.9/site-packages/cvxpy/problems/problem.py:1016\u001b[0m, in \u001b[0;36mProblem._solve\u001b[0;34m(self, solver, warm_start, verbose, gp, qcp, requires_grad, enforce_dpp, ignore_dpp, **kwargs)\u001b[0m\n\u001b[1;32m   1012\u001b[0m     s\u001b[39m.\u001b[39mLOGGER\u001b[39m.\u001b[39minfo(\n\u001b[1;32m   1013\u001b[0m             \u001b[39m'\u001b[39m\u001b[39mInvoking solver \u001b[39m\u001b[39m%s\u001b[39;00m\u001b[39m  to obtain a solution.\u001b[39m\u001b[39m'\u001b[39m,\n\u001b[1;32m   1014\u001b[0m             solving_chain\u001b[39m.\u001b[39mreductions[\u001b[39m-\u001b[39m\u001b[39m1\u001b[39m]\u001b[39m.\u001b[39mname())\n\u001b[1;32m   1015\u001b[0m start \u001b[39m=\u001b[39m time\u001b[39m.\u001b[39mtime()\n\u001b[0;32m-> 1016\u001b[0m solution \u001b[39m=\u001b[39m solving_chain\u001b[39m.\u001b[39;49msolve_via_data(\n\u001b[1;32m   1017\u001b[0m     \u001b[39mself\u001b[39;49m, data, warm_start, verbose, kwargs)\n\u001b[1;32m   1018\u001b[0m end \u001b[39m=\u001b[39m time\u001b[39m.\u001b[39mtime()\n\u001b[1;32m   1019\u001b[0m \u001b[39mself\u001b[39m\u001b[39m.\u001b[39m_solve_time \u001b[39m=\u001b[39m end \u001b[39m-\u001b[39m start\n",
      "File \u001b[0;32m~/anaconda3/envs/mamo/lib/python3.9/site-packages/cvxpy/reductions/solvers/solving_chain.py:361\u001b[0m, in \u001b[0;36mSolvingChain.solve_via_data\u001b[0;34m(self, problem, data, warm_start, verbose, solver_opts)\u001b[0m\n\u001b[1;32m    325\u001b[0m \u001b[39mdef\u001b[39;00m \u001b[39msolve_via_data\u001b[39m(\u001b[39mself\u001b[39m, problem, data, warm_start: \u001b[39mbool\u001b[39m \u001b[39m=\u001b[39m \u001b[39mFalse\u001b[39;00m, verbose: \u001b[39mbool\u001b[39m \u001b[39m=\u001b[39m \u001b[39mFalse\u001b[39;00m,\n\u001b[1;32m    326\u001b[0m                    solver_opts\u001b[39m=\u001b[39m{}):\n\u001b[1;32m    327\u001b[0m     \u001b[39m\"\"\"Solves the problem using the data output by the an apply invocation.\u001b[39;00m\n\u001b[1;32m    328\u001b[0m \n\u001b[1;32m    329\u001b[0m \u001b[39m    The semantics are:\u001b[39;00m\n\u001b[0;32m   (...)\u001b[0m\n\u001b[1;32m    359\u001b[0m \u001b[39m        a Solution object.\u001b[39;00m\n\u001b[1;32m    360\u001b[0m \u001b[39m    \"\"\"\u001b[39;00m\n\u001b[0;32m--> 361\u001b[0m     \u001b[39mreturn\u001b[39;00m \u001b[39mself\u001b[39;49m\u001b[39m.\u001b[39;49msolver\u001b[39m.\u001b[39;49msolve_via_data(data, warm_start, verbose,\n\u001b[1;32m    362\u001b[0m                                       solver_opts, problem\u001b[39m.\u001b[39;49m_solver_cache)\n",
      "File \u001b[0;32m~/anaconda3/envs/mamo/lib/python3.9/site-packages/cvxpy/reductions/solvers/conic_solvers/gurobi_conif.py:158\u001b[0m, in \u001b[0;36mGUROBI.solve_via_data\u001b[0;34m(self, data, warm_start, verbose, solver_opts, solver_cache)\u001b[0m\n\u001b[1;32m    155\u001b[0m     model \u001b[39m=\u001b[39m gurobipy\u001b[39m.\u001b[39mModel(env\u001b[39m=\u001b[39mdefault_env)\n\u001b[1;32m    156\u001b[0m \u001b[39melse\u001b[39;00m:\n\u001b[1;32m    157\u001b[0m     \u001b[39m# Create Gurobi model using default (unspecified) environment\u001b[39;00m\n\u001b[0;32m--> 158\u001b[0m     model \u001b[39m=\u001b[39m gurobipy\u001b[39m.\u001b[39;49mModel()\n\u001b[1;32m    160\u001b[0m \u001b[39m# Pass through verbosity\u001b[39;00m\n\u001b[1;32m    161\u001b[0m model\u001b[39m.\u001b[39msetParam(\u001b[39m\"\u001b[39m\u001b[39mOutputFlag\u001b[39m\u001b[39m\"\u001b[39m, verbose)\n",
      "File \u001b[0;32msrc/gurobipy/model.pxi:68\u001b[0m, in \u001b[0;36mgurobipy.Model.__init__\u001b[0;34m()\u001b[0m\n",
      "File \u001b[0;32msrc/gurobipy/gurobi.pxi:32\u001b[0m, in \u001b[0;36mgurobipy.gurobi._getdefaultenv\u001b[0;34m()\u001b[0m\n",
      "File \u001b[0;32msrc/gurobipy/env.pxi:62\u001b[0m, in \u001b[0;36mgurobipy.Env.__init__\u001b[0;34m()\u001b[0m\n",
      "\u001b[0;31mGurobiError\u001b[0m: HostID mismatch (licensed to 5d6fd038, hostid is 5d6fd39c)"
     ]
    }
   ],
   "source": [
    "import cvxpy as cp\n",
    "import numpy as np\n",
    "\n",
    "x = cp.Variable(2, nonneg=True)\n",
    "obj = cp.Minimize(x[0]**2 + x[1]**2 - 4*x[0] + 4)\n",
    "cons = [\n",
    "    -x[0] + x[1] - 2 <= 0,\n",
    "    x[0]**2 - x[1] + 1 <= 0,\n",
    "]\n",
    "prob = cp.Problem(obj, cons)\n",
    "prob.solve(solver='GUROBI')\n",
    "print(f'最优解为：{x.value}'), print(f'最优值为：{prob.value}')"
   ]
  }
 ],
 "metadata": {
  "kernelspec": {
   "display_name": "Python 3.9.12 ('mamo')",
   "language": "python",
   "name": "python3"
  },
  "language_info": {
   "codemirror_mode": {
    "name": "ipython",
    "version": 3
   },
   "file_extension": ".py",
   "mimetype": "text/x-python",
   "name": "python",
   "nbconvert_exporter": "python",
   "pygments_lexer": "ipython3",
   "version": "3.9.12"
  },
  "orig_nbformat": 4,
  "vscode": {
   "interpreter": {
    "hash": "bc4866e053c759d6a7b6c75a6ee7f30413af3cb1408278924a32b7c27fdde7d0"
   }
  }
 },
 "nbformat": 4,
 "nbformat_minor": 2
}
