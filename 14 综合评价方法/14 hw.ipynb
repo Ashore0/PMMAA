{
 "cells": [
  {
   "cell_type": "code",
   "execution_count": 1,
   "metadata": {},
   "outputs": [],
   "source": [
    "import numpy as np\n",
    "import pandas as pd\n",
    "from sklearn.preprocessing import MinMaxScaler"
   ]
  },
  {
   "cell_type": "markdown",
   "metadata": {},
   "source": [
    "### 1\n",
    "TOPSIS 法"
   ]
  },
  {
   "cell_type": "code",
   "execution_count": 2,
   "metadata": {},
   "outputs": [
    {
     "name": "stdout",
     "output_type": "stream",
     "text": [
      "TOPSIS 评价值：\n",
      "[0.5133 0.4295 0.5817 0.4253 0.501 ]\n",
      "\n",
      "TOPSIS 排名:\n",
      "[2 4 1 5 3]\n"
     ]
    }
   ],
   "source": [
    "data = np.loadtxt('../../../hw/14第14章  综合评价方法习题解答/ti14_1.txt').T\n",
    "scaler = MinMaxScaler(feature_range=(0, 1)).fit(data)\n",
    "B = scaler.transform(data)\n",
    "\n",
    "def small2big(data, to_transform):\n",
    "    for i in to_transform:\n",
    "        data[:, i] = 1 - data[:, i]\n",
    "\n",
    "to_transform = [0, 4, 6, 8]    # 极小型指标\n",
    "small2big(B, to_transform)\n",
    "\n",
    "C_pos = B.max(axis=0)\n",
    "C_neg = B.min(axis=0)\n",
    "d_pos = np.linalg.norm(B - C_pos, axis=1)\n",
    "d_neg = np.linalg.norm(B - C_neg, axis=1)\n",
    "score = d_neg/(d_neg+d_pos)\n",
    "print(\"TOPSIS 评价值：\\n\", np.round(score, 4), sep='')\n",
    "\n",
    "rank = np.argsort(np.argsort(-score)) + 1\n",
    "print(\"\\nTOPSIS 排名:\\n\", rank, sep='')"
   ]
  },
  {
   "cell_type": "markdown",
   "metadata": {},
   "source": [
    "### 2\n",
    "灰色关联度分析"
   ]
  },
  {
   "cell_type": "code",
   "execution_count": 10,
   "metadata": {},
   "outputs": [
    {
     "name": "stdout",
     "output_type": "stream",
     "text": [
      "灰色关联系数：\n",
      "[[0.3333 0.4046 0.56   0.3333 0.48   0.5238 0.6    0.5172 0.4146]\n",
      " [0.4706 0.7681 0.3333 0.434  0.6    1.     0.3846 0.3333 0.68  ]\n",
      " [1.     0.3333 0.4828 0.4694 0.3636 0.4783 1.     0.7143 1.    ]\n",
      " [0.5333 1.     0.6087 0.5111 1.     0.3333 0.4286 1.     0.4595]\n",
      " [0.4    0.5354 0.4516 1.     0.48   0.5238 0.3333 0.3846 0.3333]\n",
      " [0.6667 0.6235 1.     0.5897 0.3333 0.6471 0.375  0.6522 0.6296]]\n",
      "\n",
      "灰色关联度：\n",
      "[0.463  0.556  0.6491 0.6527 0.4936 0.613 ]\n",
      "\n",
      "灰色关联度排名(降序):\n",
      "[6 4 2 1 5 3]\n"
     ]
    }
   ],
   "source": [
    "data = np.loadtxt('../../../hw/14第14章  综合评价方法习题解答/ti14_2.txt').T\n",
    "scaler = MinMaxScaler(feature_range=(0, 1)).fit(data)\n",
    "B = scaler.transform(data)\n",
    "\n",
    "def small2big(data, to_transform):\n",
    "    for i in to_transform:\n",
    "        data[:, i] = 1 - data[:, i]\n",
    "\n",
    "to_transform = [1, 2, 3]    # 极小型指标\n",
    "small2big(B, to_transform)\n",
    "\n",
    "b0 = np.max(B, axis=0)\n",
    "r = 0.5                 # 分辨系数\n",
    "Bmin, Bmax = np.min(abs(B - b0)), np.max(abs(B - b0))\n",
    "co_co = (Bmin + r*Bmax) / (abs(b0 - B) + r*Bmax)\n",
    "print(\"灰色关联系数：\\n\", np.round(co_co, 4), sep='')\n",
    "score = np.sum(co_co, axis=1)/len(co_co[0])\n",
    "print(\"\\n灰色关联度：\\n\", np.round(score, 4), sep='')\n",
    "\n",
    "rank = np.argsort(np.argsort(-score)) + 1\n",
    "print(\"\\n灰色关联度排名(降序):\\n\", rank, sep='')"
   ]
  }
 ],
 "metadata": {
  "kernelspec": {
   "display_name": "Python 3.9.12 ('mamo')",
   "language": "python",
   "name": "python3"
  },
  "language_info": {
   "codemirror_mode": {
    "name": "ipython",
    "version": 3
   },
   "file_extension": ".py",
   "mimetype": "text/x-python",
   "name": "python",
   "nbconvert_exporter": "python",
   "pygments_lexer": "ipython3",
   "version": "3.9.12"
  },
  "orig_nbformat": 4,
  "vscode": {
   "interpreter": {
    "hash": "bc4866e053c759d6a7b6c75a6ee7f30413af3cb1408278924a32b7c27fdde7d0"
   }
  }
 },
 "nbformat": 4,
 "nbformat_minor": 2
}
