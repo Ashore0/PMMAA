{
 "cells": [
  {
   "cell_type": "code",
   "execution_count": 1,
   "metadata": {},
   "outputs": [],
   "source": [
    "import numpy as np\n",
    "import pandas as pd\n",
    "from sklearn.op"
   ]
  },
  {
   "cell_type": "markdown",
   "metadata": {},
   "source": [
    "### 1"
   ]
  },
  {
   "cell_type": "code",
   "execution_count": 2,
   "metadata": {},
   "outputs": [
    {
     "data": {
      "text/plain": [
       "array([[ 99.89, 103.69,  97.42, 101.11,  97.21],\n",
       "       [ 96.91, 124.78,  66.44, 143.96,  88.36],\n",
       "       [102.63, 101.85, 104.39, 100.94, 100.64],\n",
       "       [ 98.47, 103.16, 109.17, 104.39,  91.9 ],\n",
       "       [ 87.51,  90.27,  93.77,  94.33,  85.21],\n",
       "       [108.35, 106.39, 142.35, 121.91, 158.61],\n",
       "       [ 71.67, 137.16,  97.65, 171.31, 204.52],\n",
       "       [103.25, 100.  , 100.  ,  99.13, 100.22],\n",
       "       [171.2 ,  51.35,  15.9 ,  53.72,  20.78]])"
      ]
     },
     "execution_count": 2,
     "metadata": {},
     "output_type": "execute_result"
    }
   ],
   "source": [
    "data = np.loadtxt('../../../hw/14第14章  综合评价方法习题解答/ti14_1.txt')\n"
   ]
  }
 ],
 "metadata": {
  "kernelspec": {
   "display_name": "Python 3.9.12 ('mamo')",
   "language": "python",
   "name": "python3"
  },
  "language_info": {
   "codemirror_mode": {
    "name": "ipython",
    "version": 3
   },
   "file_extension": ".py",
   "mimetype": "text/x-python",
   "name": "python",
   "nbconvert_exporter": "python",
   "pygments_lexer": "ipython3",
   "version": "3.9.12"
  },
  "orig_nbformat": 4,
  "vscode": {
   "interpreter": {
    "hash": "bc4866e053c759d6a7b6c75a6ee7f30413af3cb1408278924a32b7c27fdde7d0"
   }
  }
 },
 "nbformat": 4,
 "nbformat_minor": 2
}
