{
 "cells": [
  {
   "cell_type": "markdown",
   "metadata": {},
   "source": [
    "---\n",
    "### 招聘公务员问题\n",
    "> 2004年国赛D题"
   ]
  },
  {
   "cell_type": "code",
   "execution_count": 1,
   "metadata": {},
   "outputs": [],
   "source": [
    "import numpy as np\n",
    "import sympy as sp\n",
    "sp.init_printing(use_latex=True)\n",
    "from scipy.optimize import fsolve\n",
    "import matplotlib.pyplot as plt\n",
    "plt.rcParams['font.sans-serif']=['Times New Roman + SimSun + WFM Sans SC']\n",
    "plt.rcParams['mathtext.fontset']='stix'\n",
    "# Times New Roman + SimSun + WFM Sans SC\n",
    "# simsum宋体, times new roman -*, simhei黑体, kaiti楷体, \n",
    "# dengxian等线, fangsong仿宋, Microsoft Yahei微软雅黑\n",
    "plt.rcParams['axes.unicode_minus']=False   \n",
    "plt.rcParams['figure.dpi'] = 200\n",
    "# plt.rcParams['figure.figsize'] = [4, 3]\n",
    "# plt.rcParams['font.size'] = 12\n",
    "plt.rcParams['xtick.direction']='in'\n",
    "plt.rcParams['ytick.direction']='in'"
   ]
  },
  {
   "cell_type": "code",
   "execution_count": 34,
   "metadata": {},
   "outputs": [],
   "source": [
    "v = np.array([1, 2, 3, 4, 5])  # 评语集 v = {'A': 5, 'B': 4, 'C': 3, 'D': 2, 'E': 1}\n",
    "f1 = 0.01\n",
    "f3 = 0.8\n",
    "f5 = 1\n",
    "alpha, beta, a, b = sp.symbols('α, β, a, b', real=True)\n",
    "x = sp.symbols('x', integer=True)\n",
    "f1_3 = (1+alpha*(x - beta)**-2)**-1     # 柯西分布隶属函数\n",
    "f3_5 = a*sp.log(x) + b"
   ]
  },
  {
   "cell_type": "code",
   "execution_count": 16,
   "metadata": {},
   "outputs": [
    {
     "data": {
      "image/png": "[encoded data removed]",
      "text/latex": [
       "$\\displaystyle \\left\\{\\left( 0.906594449583279, \\  1.09569493033991\\right), \\left( 1.1086210607516, \\  0.894178487381608\\right)\\right\\}$"
      ],
      "text/plain": [
       "{(0.906594449583279, 1.09569493033991), (1.1086210607516, 0.894178487381608)}"
      ]
     },
     "execution_count": 16,
     "metadata": {},
     "output_type": "execute_result"
    }
   ],
   "source": [
    "eq1 = sp.Equality(f1_3.subs(x, 1), f1)\n",
    "eq2 = sp.Equality(f1_3.subs(x, 3), f3)\n",
    "ret1_3 = sp.nonlinsolve([eq1, eq2], [alpha, beta])\n",
    "ret1_3\n",
    "# 此处有两组解，下面使用第二组，因为第一组对应的隶属函数非单调递增"
   ]
  },
  {
   "cell_type": "code",
   "execution_count": 18,
   "metadata": {},
   "outputs": [
    {
     "data": {
      "image/png": "[encoded data removed]",
      "text/latex": [
       "$\\displaystyle \\left( 0.01, \\  0.8, \\  0.524495390311542\\right)$"
      ],
      "text/plain": [
       "(0.010000000000000049, 0.8000000000000004, 0.5244953903115418)"
      ]
     },
     "execution_count": 18,
     "metadata": {},
     "output_type": "execute_result"
    }
   ],
   "source": [
    "alpha_r, beta_r = list(ret1_3)[1]\n",
    "ff1_3 = sp.lambdify(x, f1_3.subs({alpha: alpha_r, beta: beta_r}), 'numpy')\n",
    "f2 = ff1_3(2)\n",
    "ff1_3(1), ff1_3(3), f2"
   ]
  },
  {
   "cell_type": "code",
   "execution_count": 5,
   "metadata": {},
   "outputs": [
    {
     "data": {
      "image/png": "[encoded data removed]",
      "text/latex": [
       "$\\displaystyle \\left\\{\\left( - \\frac{0.2}{- \\log{\\left(5 \\right)} + \\log{\\left(3 \\right)}}, \\  \\frac{1.0 \\left(- 0.8 \\log{\\left(5 \\right)} + 1.0 \\log{\\left(3 \\right)}\\right)}{- \\log{\\left(5 \\right)} + \\log{\\left(3 \\right)}}\\right)\\right\\}$"
      ],
      "text/plain": [
       "⎧⎛     -0.2         1.0⋅(-0.8⋅log(5) + 1.0⋅log(3))⎞⎫\n",
       "⎨⎜────────────────, ──────────────────────────────⎟⎬\n",
       "⎩⎝-log(5) + log(3)         -log(5) + log(3)       ⎠⎭"
      ]
     },
     "execution_count": 5,
     "metadata": {},
     "output_type": "execute_result"
    }
   ],
   "source": [
    "eq3 = sp.Eq(f3_5.subs(x, 3), 0.8)\n",
    "eq4 = sp.Eq(f3_5.subs(x, 5), 1)\n",
    "ret3_5 = sp.nonlinsolve([eq3, eq4], [a, b])\n",
    "ret3_5"
   ]
  },
  {
   "cell_type": "code",
   "execution_count": 19,
   "metadata": {},
   "outputs": [
    {
     "data": {
      "image/png": "[encoded data removed]",
      "text/latex": [
       "$\\displaystyle \\left( 0.8, \\  1.0, \\  0.912634158925265\\right)$"
      ],
      "text/plain": [
       "(0.8000000000000003, 1.0000000000000004, 0.9126341589252652)"
      ]
     },
     "execution_count": 19,
     "metadata": {},
     "output_type": "execute_result"
    }
   ],
   "source": [
    "a_r, b_r = list(ret3_5)[0]\n",
    "a_r, b_r = a_r.n(), b_r.n()\n",
    "ff3_5 = sp.lambdify(x, f3_5.subs({a: a_r, b: b_r}), 'numpy')\n",
    "f4 = ff3_5(4)\n",
    "ff3_5(3), ff3_5(5), f4"
   ]
  },
  {
   "cell_type": "code",
   "execution_count": 62,
   "metadata": {},
   "outputs": [
    {
     "data": {
      "text/plain": [
       "array([0.95631708, 0.92815854, 0.80928239, 0.93447562, 0.90631708,\n",
       "       0.83744093, 0.90631708, 0.92815854, 0.93447562, 0.80928239,\n",
       "       0.80928239, 0.92815854, 0.80928239, 0.83744093, 0.90631708,\n",
       "       0.90631708])"
      ]
     },
     "execution_count": 62,
     "metadata": {},
     "output_type": "execute_result"
    }
   ],
   "source": [
    "def membership_f(x):\n",
    "    if (1 <= x and x <= 3):\n",
    "        return ff1_3(x)\n",
    "    elif (3 <= x and x <= 5):\n",
    "        return ff3_5(x)\n",
    "\n",
    "quant_score = list(map(membership_f, v))\n",
    "\n",
    "def score(x):\n",
    "    return quant_score[int(x-1)]\n",
    "\n",
    "data = np.loadtxt('../../14第14章  综合评价方法/anli14_1_1.txt')\n",
    "for i in range(len(data)):\n",
    "    for j in range(3, len(data[0])):\n",
    "        data[i, j] = score(data[i, j])\n",
    "\n",
    "retest = data[:, 3:].mean(axis=1)   # 对四项评分取相同的权重\n",
    "retest          # 复试成绩"
   ]
  },
  {
   "cell_type": "code",
   "execution_count": 72,
   "metadata": {},
   "outputs": [
    {
     "data": {
      "text/plain": [
       "array([[1.00000000e+00, 1.00000000e+00],\n",
       "       [8.82352941e-01, 8.08490504e-01],\n",
       "       [8.82352941e-01, 0.00000000e+00],\n",
       "       [7.05882353e-01, 8.51453695e-01],\n",
       "       [5.88235294e-01, 6.59944199e-01],\n",
       "       [5.88235294e-01, 1.91509496e-01],\n",
       "       [4.11764706e-01, 6.59944199e-01],\n",
       "       [4.11764706e-01, 8.08490504e-01],\n",
       "       [4.11764706e-01, 8.51453695e-01],\n",
       "       [4.11764706e-01, 8.88178420e-16],\n",
       "       [2.94117647e-01, 8.88178420e-16],\n",
       "       [2.35294118e-01, 8.08490504e-01],\n",
       "       [1.17647059e-01, 8.88178420e-16],\n",
       "       [1.17647059e-01, 1.91509496e-01],\n",
       "       [5.88235294e-02, 6.59944199e-01],\n",
       "       [0.00000000e+00, 6.59944199e-01]])"
      ]
     },
     "execution_count": 72,
     "metadata": {},
     "output_type": "execute_result"
    }
   ],
   "source": [
    "from sklearn.preprocessing import minmax_scale\n",
    "\n",
    "score = np.array([data[:, 0], retest]).T\n",
    "score_std = minmax_scale(score, axis=0) # 极差变换法\n",
    "score_std       # 规范化成绩"
   ]
  },
  {
   "cell_type": "code",
   "execution_count": 74,
   "metadata": {},
   "outputs": [
    {
     "data": {
      "text/plain": [
       "array([1.        , 0.84542172, 0.44117647, 0.77866802, 0.62408975,\n",
       "       0.38987239, 0.53585445, 0.61012761, 0.6316092 , 0.20588235,\n",
       "       0.14705882, 0.52189231, 0.05882353, 0.15457828, 0.35938386,\n",
       "       0.3299721 ])"
      ]
     },
     "execution_count": 74,
     "metadata": {},
     "output_type": "execute_result"
    }
   ],
   "source": [
    "gamma = 0.5\n",
    "performance = score_std[:, 0]*gamma + score_std[:, 1]*(1 - gamma)\n",
    "performance\n"
   ]
  }
 ],
 "metadata": {
  "kernelspec": {
   "display_name": "Python 3.9.12 ('mamo')",
   "language": "python",
   "name": "python3"
  },
  "language_info": {
   "codemirror_mode": {
    "name": "ipython",
    "version": 3
   },
   "file_extension": ".py",
   "mimetype": "text/x-python",
   "name": "python",
   "nbconvert_exporter": "python",
   "pygments_lexer": "ipython3",
   "version": "3.9.12"
  },
  "orig_nbformat": 4,
  "vscode": {
   "interpreter": {
    "hash": "bc4866e053c759d6a7b6c75a6ee7f30413af3cb1408278924a32b7c27fdde7d0"
   }
  }
 },
 "nbformat": 4,
 "nbformat_minor": 2
}
