{
 "cells": [
  {
   "cell_type": "markdown",
   "metadata": {},
   "source": [
    "### 14.4.1 模糊数学基本概念\n",
    "- 论域 $U$\n",
    "  \n",
    "- 隶属函数 $M(u)$\n",
    "- 模糊集的过渡点 $u\\ {\\rm s.t.}\\ M(u)=0.5$\n",
    "- 模糊集 $M=(M(u_1), M(u_2), \\cdots, M(u_n))$\n",
    "- 模糊分布（定义在实数域上的隶属函数）\n",
    "- 模糊运算\n",
    "### 14.4.2 模糊贴进度\n",
    "- 汉明贴进度\n",
    "\n",
    "- 欧几里得贴进度"
   ]
  },
  {
   "cell_type": "code",
   "execution_count": 5,
   "metadata": {},
   "outputs": [
    {
     "data": {
      "text/plain": [
       "[0.925, 0.95, 0.975]"
      ]
     },
     "execution_count": 5,
     "metadata": {},
     "output_type": "execute_result"
    }
   ],
   "source": [
    "import numpy as np\n",
    "\n",
    "A = np.array([[0.4,0.3,0.5,0.3],[0.3,0.3,0.4,0.4],[0.2,0.3,0.3,0.3]])   # A1, A2, A3\n",
    "B = np.array([0.2,0.3,0.4,0.3])\n",
    "# 汉明贴进度\n",
    "N = []\n",
    "n = len(A[0])\n",
    "for i in range(len(A)):\n",
    "    N.append(1 -sum(np.abs(A[i] - B))/n)\n",
    "N"
   ]
  },
  {
   "cell_type": "markdown",
   "metadata": {},
   "source": [
    "### 14.4.3 模糊综合评价\n"
   ]
  }
 ],
 "metadata": {
  "kernelspec": {
   "display_name": "Python 3.9.12 ('mamo')",
   "language": "python",
   "name": "python3"
  },
  "language_info": {
   "codemirror_mode": {
    "name": "ipython",
    "version": 3
   },
   "file_extension": ".py",
   "mimetype": "text/x-python",
   "name": "python",
   "nbconvert_exporter": "python",
   "pygments_lexer": "ipython3",
   "version": "3.9.12"
  },
  "orig_nbformat": 4,
  "vscode": {
   "interpreter": {
    "hash": "bc4866e053c759d6a7b6c75a6ee7f30413af3cb1408278924a32b7c27fdde7d0"
   }
  }
 },
 "nbformat": 4,
 "nbformat_minor": 2
}
