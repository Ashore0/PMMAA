{
 "cells": [
  {
   "cell_type": "markdown",
   "metadata": {},
   "source": [
    "#### pros：\n",
    "  \n",
    "- 1. 需要的数据规模小\n",
    "- 2. 精度高\n",
    "- 3. 运算简便，易于检验\n",
    "\n",
    "#### cons：\n",
    "\n",
    "- 1. 只适合中短期预测\n",
    "- 2. 只适合指数增长的预测\n",
    "---"
   ]
  },
  {
   "cell_type": "markdown",
   "metadata": {},
   "source": [
    "### 15.1.1 GM(1,1) 预测模型\n",
    "> GM(1,1) 表示模型是 1 阶微分方程，且只含一个变量的灰色模型\n",
    "\n",
    "1. 模型准备\n",
    "   \n",
    "   参考数据列 \n",
    "   $$\\boldsymbol x^{(0)}=\\left(x^{(0)}(1), x^{(0)}(2), \\cdots, x^{(0)}(n)\\right)$$\n",
    "   1 次累加生成序列 (1-AGO)\n",
    "   $$\n",
    "   \\begin{align*}\n",
    "   \\boldsymbol x^{(1)}&=\\left(x^{(1)}(1), x^{(1)}(2),\\cdots, x^{(1)}(n)\\right)\\\\\n",
    "          &=\\left(x^{(0)}(1), x^{(0)}(1)+x^{(0)}(2),\\cdots, x^{(0)}(1)+\\cdots+x^{(0)}(n)\\right)\n",
    "   \\end{align*}\n",
    "   $$\n",
    "   $\\boldsymbol x^{(1)}$ 的均值生成序列\n",
    "   $$\n",
    "   \\boldsymbol z^{(1)}=\\left(z^{(1)}(2), z^{(1)}(3), \\cdots, z^{(1)}(n)\\right)\n",
    "   $$\n",
    "   其中\n",
    "   $$\n",
    "   z^{(1)}(k)=0.5x^{(1)}(k)+0.5x^{(1)}(k-1),\\quad k=2,3,\\cdots,n\n",
    "   $$\n",
    "   记\n",
    "   $$\n",
    "   \\boldsymbol B =\n",
    "      \\begin{bmatrix}\n",
    "      -z^{(1)}(2) &1\\\\\n",
    "      -z^{(1)}(3) &1\\\\\n",
    "      \\vdots      &\\vdots\\\\\n",
    "      -z^{(1)}(n) &1\n",
    "      \\end{bmatrix}\\\\\n",
    "   \\boldsymbol Y=\\left[x^{(0)}(2), x^{(0)}(3), \\cdots, x^{(0)}(n)\\right]^{\\rm T}\n",
    "   $$\n",
    "   $$\n",
    "   \\hat{\\boldsymbol u}=\\left[\\hat a, \\hat b\\right]^{\\rm T}=\\left(\\boldsymbol B^{\\rm T}\\boldsymbol B\\right)^{-1}\\boldsymbol B^{\\rm T}\\boldsymbol Y\n",
    "   $$"
   ]
  },
  {
   "cell_type": "markdown",
   "metadata": {},
   "source": [
    "2. 检验级比\n",
    "   \n",
    "   若序列的级比 $$\\lambda (k)=\\dfrac{x^{(0)}(k-1)}{x^{(0)}(k)},\\quad k=2,3,\\cdots,n$$ 都落在可容覆盖 $\\Theta=\\left({\\rm e}^{-2/(n+1)},{\\rm e}^{2/(n+1)}\\right)$ 内，则该序列可以作为模型 GM(1,1) 的数据进行灰色预测；否则，需要对数列做平移变换 $$y^{(0)}(k)=x^{(0)}(k)+c,\\quad k=1,2,\\cdots,n$$\n",
    "\n",
    "3. 建立模型\n",
    "\n",
    "   预测值 $$\\hat x^{(1)}(k+1)=\\left(x^{(0)}(1)-\\dfrac{\\hat b}{\\hat a}\\right){\\rm e}^{-\\hat ak}+\\dfrac{\\hat b}{\\hat a},\\quad k=0,1,\\cdots,n-1,\\cdots$$\n",
    "   \n",
    "   则 $$\\hat x^{(0)}(k+1)=\\hat x^{(1)}(k+1)-\\hat x^{(1)}(k),\\quad k=1,2,\\cdots,n-1,\\cdots$$\n",
    "4. 检验预测值\n",
    "   \n",
    "   (1) 相对误差检验\n",
    "   $$\\delta(k)=\\dfrac{\\left|x^{(0)}(k)-\\hat x^{(0)}(k)\\right|}{x^{(0)}(k)},\\quad k=1,2,\\cdots,n$$\n",
    "   (2) 级比偏差值检验\n",
    "   $$\\rho(k)=\\left|1-\\left(\\dfrac{1-0.5\\hat a}{1+0.5\\hat a}\\right)\\lambda(k)\\right|$$"
   ]
  },
  {
   "cell_type": "code",
   "execution_count": 1,
   "metadata": {},
   "outputs": [
    {
     "data": {
      "text/plain": [
       "(array([ True,  True,  True,  True,  True,  True]),\n",
       " array([ True,  True,  True,  True,  True,  True]))"
      ]
     },
     "execution_count": 1,
     "metadata": {},
     "output_type": "execute_result"
    }
   ],
   "source": [
    "import numpy as np\n",
    "import sympy as sp\n",
    "sp.init_printing(use_latex=True)\n",
    "\n",
    "x0 = np.array([71.1, 72.4, 72.4, 72.1, 71.4, 72.0, 71.6])\n",
    "n = len(x0)\n",
    "ratio = x0[:-1]/x0[1:]\n",
    "bd_left, bd_right = np.exp(-2/(n+1)), np.exp(2/(n+1))\n",
    "bd_left < ratio, ratio < bd_right   # 通过了级比检验"
   ]
  },
  {
   "cell_type": "code",
   "execution_count": 2,
   "metadata": {},
   "outputs": [
    {
     "data": {
      "image/png": "[encoded data removed]",
      "text/latex": [
       "$\\displaystyle \\left( 0.00234378647852365, \\  72.6572696036788\\right)$"
      ],
      "text/plain": [
       "(0.0023437864785236517, 72.65726960367881)"
      ]
     },
     "execution_count": 2,
     "metadata": {},
     "output_type": "execute_result"
    }
   ],
   "source": [
    "x1 = np.cumsum(x0)\n",
    "z1 = 0.5*x1[1:] + 0.5*x1[:-1]\n",
    "B = np.vstack([-z1, np.ones(n-1)]).T\n",
    "Y = x0[1:]\n",
    "ahat, bhat = np.linalg.inv(B.T @ B) @ B.T @ Y\n",
    "ahat, bhat"
   ]
  },
  {
   "cell_type": "code",
   "execution_count": 3,
   "metadata": {},
   "outputs": [
    {
     "data": {
      "text/plain": [
       "array([71.1       , 72.40574144, 72.23623656, 72.0671285 , 71.89841633,\n",
       "       71.73009912, 71.56217595, 71.39464589, 71.22750803, 71.06076145])"
      ]
     },
     "execution_count": 3,
     "metadata": {},
     "output_type": "execute_result"
    }
   ],
   "source": [
    "k = sp.symbols('k', integer=True, nonneg=True)\n",
    "x1_kp1 = (x0[0] - bhat/ahat)*sp.exp(-ahat*(k)) + bhat/ahat\n",
    "ff_x1_kp1 = sp.lambdify(k, x1_kp1, 'numpy')\n",
    "\n",
    "m = 10      # 所希望的预测序列的长度（含已知序列）\n",
    "x1hat = np.zeros(m)\n",
    "x1hat[0] = x1[0]\n",
    "x1hat[1:] = ff_x1_kp1(np.arange(1, m))\n",
    "x0hat = np.zeros(m)\n",
    "x0hat[0] = x1hat[0]\n",
    "for i in range(1, m):\n",
    "    x0hat[i] = x1hat[i] - x1hat[i-1]\n",
    "x0hat"
   ]
  },
  {
   "cell_type": "markdown",
   "metadata": {},
   "source": [
    "抽象成一个函数"
   ]
  },
  {
   "cell_type": "code",
   "execution_count": 4,
   "metadata": {},
   "outputs": [],
   "source": [
    "def GM1_1(x0, m):\n",
    "    \"\"\"\n",
    "    x0: 参考数据列\n",
    "    m: 期望的预测序列长度\n",
    "    RETURN: \n",
    "        if 通过级比检验 then (预测序列 x0hat，长度为 m, 参数列 u=[a, b])\n",
    "        else 可容覆盖 (bd_left, bd_right)\n",
    "    \"\"\"\n",
    "    n = len(x0)\n",
    "    ratio = x0[:-1]/x0[1:]\n",
    "    bd_left, bd_right = np.exp(-2/(n+1)), np.exp(2/(n+1))\n",
    "    if not(all(bd_left < ratio) and all(ratio < bd_right)):   # 通过了级比检验\n",
    "        print(\"级比检验未通过\")\n",
    "        return (bd_left, bd_right)\n",
    "    x1 = np.cumsum(x0)\n",
    "    z1 = 0.5*x1[1:] + 0.5*x1[:-1]\n",
    "    B = np.vstack([-z1, np.ones(n-1)]).T\n",
    "    Y = x0[1:]\n",
    "    ahat, bhat = np.linalg.inv(B.T @ B) @ B.T @ Y\n",
    "\n",
    "    k = sp.symbols('k', integer=True, nonneg=True)\n",
    "    x1_kp1 = (x0[0] - bhat/ahat)*sp.exp(-ahat*(k)) + bhat/ahat\n",
    "    ff_x1_kp1 = sp.lambdify(k, x1_kp1, 'numpy')\n",
    "    x1hat = np.zeros(m)\n",
    "    x1hat[0] = x1[0]\n",
    "    x1hat[1:] = ff_x1_kp1(np.arange(1, m))\n",
    "    x0hat = np.zeros(m)\n",
    "    x0hat[0] = x1hat[0]\n",
    "    for i in range(1, m):\n",
    "        x0hat[i] = x1hat[i] - x1hat[i-1]\n",
    "    return x0hat, (ahat, bhat)"
   ]
  },
  {
   "cell_type": "code",
   "execution_count": 5,
   "metadata": {},
   "outputs": [
    {
     "data": {
      "text/plain": [
       "array([71.1       , 72.40574144, 72.23623656, 72.0671285 , 71.89841633,\n",
       "       71.73009912, 71.56217595, 71.39464589, 71.22750803, 71.06076145])"
      ]
     },
     "execution_count": 5,
     "metadata": {},
     "output_type": "execute_result"
    }
   ],
   "source": [
    "x0hat, uhat = GM1_1(x0, 10)\n",
    "x0hat"
   ]
  },
  {
   "cell_type": "markdown",
   "metadata": {},
   "source": [
    "误差检验"
   ]
  },
  {
   "cell_type": "code",
   "execution_count": 6,
   "metadata": {},
   "outputs": [],
   "source": [
    "def rela_err(x0, x0hat):\n",
    "    \"\"\"\n",
    "    计算相对误差\n",
    "    x0: 原始数据列\n",
    "    x0hat: 预测数据列\n",
    "    RETURN: 与 x0 等长的相对误差列\n",
    "    \"\"\"\n",
    "    diff = x0 - x0hat[:len(x0)]\n",
    "    delta = np.abs(diff/x0)\n",
    "    return delta\n",
    "\n",
    "def ratio_err(x0, uhat):\n",
    "    \"\"\"\n",
    "    计算级比误差\n",
    "    x0: 原始数据列\n",
    "    uhat: 预测的模型参数序列 [a, b]\n",
    "    RETURN: 与 x0 等长的相对误差列\n",
    "    \"\"\"\n",
    "    ratio = x0[:-1]/x0[1:]\n",
    "    ahat = uhat[0]\n",
    "    rho = np.abs(1 - (1 - 0.5*ahat)/(1 + 0.5*ahat)*ratio)\n",
    "    return rho"
   ]
  },
  {
   "cell_type": "code",
   "execution_count": 7,
   "metadata": {},
   "outputs": [
    {
     "data": {
      "text/plain": [
       "(array([0.00000000e+00, 7.93016634e-05, 2.26192594e-03, 4.55915376e-04,\n",
       "        6.98062087e-03, 3.74862332e-03, 5.28268865e-04]),\n",
       " array([0.02025481, 0.00234104, 0.0018101 , 0.00743993, 0.01065487,\n",
       "        0.00323247]))"
      ]
     },
     "execution_count": 7,
     "metadata": {},
     "output_type": "execute_result"
    }
   ],
   "source": [
    "rela_err(x0, x0hat), ratio_err(x0, uhat)"
   ]
  },
  {
   "cell_type": "markdown",
   "metadata": {},
   "source": [
    "给出建议的预测范围"
   ]
  },
  {
   "cell_type": "code",
   "execution_count": 8,
   "metadata": {},
   "outputs": [],
   "source": [
    "def check_GM1_1(uhat):\n",
    "    ahat = uhat[0]\n",
    "    if np.abs(ahat)>2:\n",
    "        print(\"没有意义\")\n",
    "    elif np.abs(ahat)<=2:\n",
    "        print(\"有意义\")\n",
    "        if 0.3<-ahat<=0.5:\n",
    "            print(\"适用于短期预测\")\n",
    "        elif 0.5<-ahat<=0.8:\n",
    "            print(\"对于短期数据谨慎使用!\")\n",
    "        elif 0.8<-ahat<=1.0:\n",
    "            print(\"应该对此模型进行修正!\")\n",
    "        elif -ahat>1.0:\n",
    "            print(\"不宜使用GM(1,1)模型预测!\")\n",
    "        else:\n",
    "            print(\"适用于中期和长期预测\")"
   ]
  },
  {
   "cell_type": "code",
   "execution_count": 9,
   "metadata": {},
   "outputs": [
    {
     "name": "stdout",
     "output_type": "stream",
     "text": [
      "有意义\n",
      "适用于中期和长期预测\n"
     ]
    }
   ],
   "source": [
    "check_GM1_1(uhat)"
   ]
  },
  {
   "cell_type": "markdown",
   "metadata": {},
   "source": [
    "如果未通过级比检验，需要调用下面的函数"
   ]
  },
  {
   "cell_type": "code",
   "execution_count": 10,
   "metadata": {},
   "outputs": [],
   "source": [
    "def translate(x0):\n",
    "    \"\"\"\n",
    "    对未通过级比检验的原始序列 x0 作平移变换\n",
    "    x0: 原始数据列\n",
    "    RETURN: (平移后的数据列 y0, 偏移量 bias, 循环度 cnt)\n",
    "        # 循环度衡量偏移的相对大小\n",
    "    \"\"\"\n",
    "    n = len(x0)\n",
    "    ratio = x0[:-1]/x0[1:]\n",
    "    bd_left, bd_right = np.exp(-2/(n+1)), np.exp(2/(n+1))\n",
    "    \n",
    "    y0 = np.copy(x0)\n",
    "    bias = x0[0]/10000\n",
    "    cnt = 0\n",
    "    while not(all(bd_left < ratio) and all(ratio < bd_right)):\n",
    "        y0 += bias\n",
    "        ratio = y0[:-1]/y0[1:]\n",
    "        cnt += 1\n",
    "    if (y0 - x0)[0]/x0[0] > 3:\n",
    "        print(\"警告：不适宜使用灰色预测\")\n",
    "    return y0, (y0 - x0)[0], cnt\n",
    "\n",
    "def inverse_translate(y0, bias):\n",
    "    \"\"\"\n",
    "    平移的逆操作，返回原始数据\n",
    "    \"\"\"\n",
    "    return y0 - bias"
   ]
  },
  {
   "cell_type": "markdown",
   "metadata": {},
   "source": [
    "### 15.1.2 GM(2,1)、DGM 和 Verhulst 模型\n",
    "GM(1,1) 只适用于具有较强指数规律的序列，只能描述单调的变化过程，对于非单调的摆动发展序列或有饱和的 S 形序列，可以考虑建立 GM(2,1)、DGM 和 Verhulst 模型"
   ]
  },
  {
   "cell_type": "markdown",
   "metadata": {},
   "source": [
    "#### 1. GM(2,1) 模型\n",
    "> GM(2,1) 表示模型是 2 阶微分方程，且只含一个变量的灰色模型\n",
    "\n",
    "1. 模型准备\n",
    "   \n",
    "   参考数据列 \n",
    "   $$\\boldsymbol x^{(0)}=\\left(x^{(0)}(1), x^{(0)}(2), \\cdots, x^{(0)}(n)\\right)$$\n",
    "   1 次累加生成序列 (1-AGO)\n",
    "   $$\n",
    "   \\begin{align*}\n",
    "   \\boldsymbol x^{(1)}&=\\left(x^{(1)}(1), x^{(1)}(2),\\cdots, x^{(1)}(n)\\right)\n",
    "   \\end{align*}\n",
    "   $$\n",
    "   1 次累减生成序列 (1-IAGO)\n",
    "   $$\n",
    "   \\boldsymbol \\alpha^{(1)}\\boldsymbol x^{(0)}=\\left(\\alpha^{(1)}x^{(0)}(2),\\cdots,\\alpha^{(1)}x^{(0)}(n)\\right)\n",
    "   $$\n",
    "   其中\n",
    "   $$\n",
    "   \\alpha^{(1)}x^{(0)}(k)=x^{(0)}(k) - x^{(0)}(k-1),\\quad k=2,3,\\cdots,n\n",
    "   $$\n",
    "   $\\boldsymbol x^{(1)}$ 的均值生成序列\n",
    "   $$\n",
    "   \\boldsymbol z^{(1)}=\\left(z^{(1)}(2), z^{(1)}(3), \\cdots, z^{(1)}(n)\\right)\n",
    "   $$\n",
    "   记\n",
    "   $$\n",
    "   \\boldsymbol B =\n",
    "      \\begin{bmatrix}\n",
    "      -x^{(0)}(2) &-z^{(1)}(2) &1\\\\\n",
    "      -x^{(0)}(3) &-z^{(1)}(3) &1\\\\\n",
    "      \\vdots      &\\vdots      &\\vdots\\\\\n",
    "      -x^{(0)}(n) &-z^{(1)}(n) &1\n",
    "      \\end{bmatrix},\\ \n",
    "   \\boldsymbol Y=\n",
    "   \\begin{bmatrix}\n",
    "   \\alpha^{(1)}x^{(0)}(2)\\\\\n",
    "   \\alpha^{(1)}x^{(0)}(3)\\\\\n",
    "   \\vdots\\\\\n",
    "   \\alpha^{(1)}x^{(0)}(n)\n",
    "   \\end{bmatrix}\n",
    "   $$\n",
    "   $$\n",
    "   \\hat{\\boldsymbol u}=\\left[\\hat a_1, \\hat a_2, \\hat b\\right]^{\\rm T}=\\left(\\boldsymbol B^{\\rm T}\\boldsymbol B\\right)^{-1}\\boldsymbol B^{\\rm T}\\boldsymbol Y,\n",
    "   $$"
   ]
  },
  {
   "cell_type": "markdown",
   "metadata": {},
   "source": [
    "2. 检验级比\n",
    "   \n",
    "   若序列的级比 $$\\lambda (k)=\\dfrac{x^{(0)}(k-1)}{x^{(0)}(k)},\\quad k=2,3,\\cdots,n$$ 都落在可容覆盖 $\\Theta=\\left({\\rm e}^{-2/(n+1)},{\\rm e}^{2/(n+1)}\\right)$ 内，则该序列可以作为模型 GM(2,1) 的数据进行灰色预测；否则，需要对数列做平移变换 $$y^{(0)}(k)=x^{(0)}(k)+c,\\quad k=1,2,\\cdots,n$$\n",
    "3. 建立模型\n",
    "\n",
    "   GM(2,1) 模型\n",
    "   $$\n",
    "   \\alpha^{(1)}x^{(0)}(k)+a_1x^{(0)}(k)+a_2z^{(1)}(k)=b\n",
    "   $$\n",
    "   白化方程\n",
    "   $$\n",
    "   \\dfrac{{\\rm d}^2x^{(1)}(t)}{{\\rm d}t^2}+a_1\\dfrac{{\\rm d}x^{(1)}(t)}{{\\rm d}t}+a_2x^{(1)}(t)=b\n",
    "   $$\n",
    "   借助边界条件 $x^{(1)}(1), x^{(1)}(n)$ 求解微分方程得到时间响应式 $\\hat x^{(1)}(k+1)$，\n",
    "   则经过 IAGO 还原，有 $$\\hat x^{(0)}(k+1)=\\hat x^{(1)}(k+1)-\\hat x^{(1)}(k),\\quad k=1,2,\\cdots,n-1,\\cdots$$\n",
    "4. 检验预测值\n",
    "   \n",
    "   (1) 相对误差检验\n",
    "   $$\\delta(k)=\\dfrac{\\left|x^{(0)}(k)-\\hat x^{(0)}(k)\\right|}{x^{(0)}(k)},\\quad k=1,2,\\cdots,n$$\n",
    "   (2) 级比偏差值检验\n",
    "   $$\\rho(k)=\\left|1-\\left(\\dfrac{1-0.5\\hat a}{1+0.5\\hat a}\\right)\\lambda(k)\\right|$$"
   ]
  },
  {
   "cell_type": "code",
   "execution_count": 11,
   "metadata": {},
   "outputs": [
    {
     "data": {
      "text/plain": [
       "True"
      ]
     },
     "execution_count": 11,
     "metadata": {},
     "output_type": "execute_result"
    }
   ],
   "source": [
    "x0 = np.array([41,49,61,78,96,104])  #原始序列\n",
    "n = len(x0)\n",
    "ratio = x0[:-1]/x0[1:]\n",
    "bd_left, bd_right = np.exp(-2/(n+1)), np.exp(2/(n+1))\n",
    "all(bd_left < ratio) and all(ratio < bd_right)  # 通过了级比检验"
   ]
  },
  {
   "cell_type": "code",
   "execution_count": 12,
   "metadata": {},
   "outputs": [
    {
     "data": {
      "image/png": "[encoded data removed]",
      "text/latex": [
       "$\\displaystyle \\left( -1.0921963495858, \\  0.195903347630475, \\  -31.7983471159811\\right)$"
      ],
      "text/plain": [
       "(-1.0921963495858034, 0.1959033476304754, -31.79834711598111)"
      ]
     },
     "execution_count": 12,
     "metadata": {},
     "output_type": "execute_result"
    }
   ],
   "source": [
    "x1 = np.cumsum(x0)\n",
    "ax0 = x0[1:] - x0[:-1]\n",
    "z1 = 0.5*x1[1:] + 0.5*x1[:-1]\n",
    "B = np.vstack([-x0[1:], -z1, np.ones(n-1)]).T\n",
    "Y = ax0\n",
    "a1hat, a2hat, bhat = np.linalg.inv(B.T @ B) @ B.T @ Y\n",
    "a1hat, a2hat, bhat"
   ]
  },
  {
   "cell_type": "code",
   "execution_count": 13,
   "metadata": {},
   "outputs": [
    {
     "data": {
      "text/plain": [
       "array([ 41.        ,  51.01481441,  63.14123779,  77.21114017,\n",
       "        92.15478971, 104.47801792, 104.68156355,  68.68742438])"
      ]
     },
     "execution_count": 13,
     "metadata": {},
     "output_type": "execute_result"
    }
   ],
   "source": [
    "x = sp.symbols('x', cls=sp.Function)\n",
    "t = sp.symbols('t', real=True)\n",
    "eq = sp.Eq(x(t).diff(t, 2) + a1hat*x(t).diff(t) + a2hat*x(t), bhat)\n",
    "x1t = sp.dsolve(eq, ics={x(0): x1[0], x(n-1): x1[-1]}).args[1]\n",
    "ff_x1_kp1 = sp.lambdify(t, x1t, 'numpy')\n",
    "\n",
    "m = 8\n",
    "x1hat = np.zeros(m)\n",
    "x1hat[0] = x1[0]\n",
    "x1hat[1:] = ff_x1_kp1(np.arange(1, m))\n",
    "x0hat = np.zeros(m)\n",
    "x0hat[0] = x1hat[0]\n",
    "for i in range(1, m):\n",
    "    x0hat[i] = x1hat[i] - x1hat[i-1]\n",
    "x0hat"
   ]
  },
  {
   "cell_type": "markdown",
   "metadata": {},
   "source": [
    "抽象成函数"
   ]
  },
  {
   "cell_type": "code",
   "execution_count": 14,
   "metadata": {},
   "outputs": [],
   "source": [
    "def GM2_1(x0, m):\n",
    "    \"\"\"\n",
    "    x0: 参考数据列\n",
    "    m: 期望的预测序列长度\n",
    "    RETURN: \n",
    "        if 通过级比检验 then (预测序列 x0hat，长度为 m, 参数列 u=[a1, a2, b])\n",
    "        else 可容覆盖 (bd_left, bd_right)\n",
    "    \"\"\"\n",
    "    n = len(x0)\n",
    "    ratio = x0[:-1]/x0[1:]\n",
    "    bd_left, bd_right = np.exp(-2/(n+1)), np.exp(2/(n+1))\n",
    "    if not(all(bd_left < ratio) and all(ratio < bd_right)):   # 通过了级比检验\n",
    "        print(\"级比检验未通过\")\n",
    "        return (bd_left, bd_right)\n",
    "\n",
    "    x1 = np.cumsum(x0)\n",
    "    ax0 = x0[1:] - x0[:-1]\n",
    "    z1 = 0.5*x1[1:] + 0.5*x1[:-1]\n",
    "    B = np.vstack([-x0[1:], -z1, np.ones(n-1)]).T\n",
    "    Y = ax0\n",
    "    a1hat, a2hat, bhat = np.linalg.inv(B.T @ B) @ B.T @ Y\n",
    "    \n",
    "    x = sp.symbols('x', cls=sp.Function)\n",
    "    t = sp.symbols('t', real=True)\n",
    "    eq = sp.Eq(x(t).diff(t, 2) + a1hat*x(t).diff(t) + a2hat*x(t), bhat)\n",
    "    x1t = sp.dsolve(eq, ics={x(0): x1[0], x(n-1): x1[-1]}).args[1]\n",
    "    ff_x1_kp1 = sp.lambdify(t, x1t, 'numpy')\n",
    "    \n",
    "    x1hat = np.zeros(m)\n",
    "    x1hat[0] = x1[0]\n",
    "    x1hat[1:] = ff_x1_kp1(np.arange(1, m))\n",
    "    x0hat = np.zeros(m)\n",
    "    x0hat[0] = x1hat[0]\n",
    "    for i in range(1, m):\n",
    "        x0hat[i] = x1hat[i] - x1hat[i-1]\n",
    "\n",
    "    return x0hat, (a1hat, a2hat, bhat)"
   ]
  },
  {
   "cell_type": "code",
   "execution_count": 15,
   "metadata": {},
   "outputs": [
    {
     "data": {
      "text/plain": [
       "array([ 41.        ,  51.01481441,  63.14123779,  77.21114017,\n",
       "        92.15478971, 104.47801792, 104.68156355,  68.68742438])"
      ]
     },
     "execution_count": 15,
     "metadata": {},
     "output_type": "execute_result"
    }
   ],
   "source": [
    "x0hat, uhat = GM2_1(x0, 8)\n",
    "x0hat"
   ]
  },
  {
   "cell_type": "code",
   "execution_count": 16,
   "metadata": {},
   "outputs": [
    {
     "data": {
      "text/plain": [
       "(array([0.        , 0.04111866, 0.03510226, 0.01011359, 0.04005427,\n",
       "        0.00459633]),\n",
       " array([1.85011849, 1.73615933, 1.66385371, 1.76756932, 2.14422077]))"
      ]
     },
     "execution_count": 16,
     "metadata": {},
     "output_type": "execute_result"
    }
   ],
   "source": [
    "rela_err(x0, x0hat), ratio_err(x0, uhat)"
   ]
  },
  {
   "cell_type": "markdown",
   "metadata": {},
   "source": [
    "#### 2. DGM(2,1) 模型\n",
    "1. 模型准备\n",
    "   \n",
    "   原始序列 $\\boldsymbol x^{(0)}$，1-AGO 序列 $\\boldsymbol x^{(1)}$，1-IAGO 序列 $\\boldsymbol\\alpha^{(1)}\\boldsymbol x^{(0)}$\n",
    "   $$\n",
    "   \\boldsymbol B =\n",
    "      \\begin{bmatrix}\n",
    "      -x^{(0)}(2) &1\\\\\n",
    "      -x^{(0)}(3) &1\\\\\n",
    "      \\vdots      &\\vdots\\\\\n",
    "      -x^{(0)}(n) &1\n",
    "      \\end{bmatrix},\\ \n",
    "   \\boldsymbol Y=\n",
    "   \\begin{bmatrix}\n",
    "   \\alpha^{(1)}x^{(0)}(2)\\\\\n",
    "   \\alpha^{(1)}x^{(0)}(3)\\\\\n",
    "   \\vdots\\\\\n",
    "   \\alpha^{(1)}x^{(0)}(n)\n",
    "   \\end{bmatrix}\n",
    "   $$\n",
    "   $$\n",
    "   \\hat{\\boldsymbol u}=\\left[\\hat a, \\hat b\\right]^{\\rm T}=\\left(\\boldsymbol B^{\\rm T}\\boldsymbol B\\right)^{-1}\\boldsymbol B^{\\rm T}\\boldsymbol Y,\n",
    "   $$"
   ]
  },
  {
   "cell_type": "markdown",
   "metadata": {},
   "source": [
    "2. 建立模型\n",
    "   \n",
    "   DGM(2,1) 模型\n",
    "   $$\n",
    "   \\alpha^{(1)}x^{(0)}(k)+ax^{(0)}(k)=b\n",
    "   $$\n",
    "   白化方程\n",
    "   $$\n",
    "   \\dfrac{{\\rm d}^2x^{(1)}(t)}{{\\rm d}t^2}+a\\dfrac{{\\rm d}x^{(1)}(t)}{{\\rm d}t}=b\n",
    "   $$\n",
    "   白化方程的解（时间响应函数）\n",
    "   $$\n",
    "   \\hat x^{(1)}(k+1)=\\left(\\dfrac{\\hat b}{\\hat a^2}-\\dfrac{x^{(0)}(1)}{\\hat a}\\right){\\rm e}^{-\\hat ak}+\\dfrac{\\hat b}{\\hat a}k+\\dfrac{1+\\hat a}{\\hat a}x^{(0)}(1)-\\dfrac{\\hat b}{\\hat a^2}\n",
    "   $$\n",
    "   从而\n",
    "   $$\\hat x^{(0)}(k+1)=\\hat x^{(1)}(k+1)-\\hat x^{(1)}(k)$$\n",
    "> 级比检验和误差检验略去不表"
   ]
  },
  {
   "cell_type": "code",
   "execution_count": 17,
   "metadata": {},
   "outputs": [
    {
     "data": {
      "text/plain": [
       "True"
      ]
     },
     "execution_count": 17,
     "metadata": {},
     "output_type": "execute_result"
    }
   ],
   "source": [
    "x0 = np.array([2.874,3.278,3.39,3.679,3.77,3.8])  #原始序列\n",
    "n = len(x0)\n",
    "ratio = x0[:-1]/x0[1:]\n",
    "bd_left, bd_right = np.exp(-2/(n+1)), np.exp(2/(n+1))\n",
    "all(bd_left < ratio) and all(ratio < bd_right)  # 通过了级比检验"
   ]
  },
  {
   "cell_type": "code",
   "execution_count": 18,
   "metadata": {},
   "outputs": [
    {
     "data": {
      "image/png": "[encoded data removed]",
      "text/latex": [
       "$\\displaystyle \\left( 0.42399723399796, \\  1.70455168830829\\right)$"
      ],
      "text/plain": [
       "(0.4239972339979596, 1.7045516883082894)"
      ]
     },
     "execution_count": 18,
     "metadata": {},
     "output_type": "execute_result"
    }
   ],
   "source": [
    "x1 = np.cumsum(x0)\n",
    "ax0 = x0[1:] - x0[:-1]\n",
    "B = np.vstack([-x0[1:], np.ones(n-1)]).T\n",
    "Y = ax0\n",
    "ahat, bhat = np.linalg.inv(B.T @ B) @ B.T @ Y\n",
    "ahat, bhat"
   ]
  },
  {
   "cell_type": "code",
   "execution_count": 19,
   "metadata": {},
   "outputs": [
    {
     "data": {
      "text/plain": [
       "array([2.874     , 3.08600136, 3.40883478, 3.62010527, 3.75836611,\n",
       "       3.84884755])"
      ]
     },
     "execution_count": 19,
     "metadata": {},
     "output_type": "execute_result"
    }
   ],
   "source": [
    "k = sp.symbols('k', integer=True, nonneg=True)\n",
    "x1_kp1 = (bhat/ahat**2 - x0[0]/ahat)*sp.exp(-ahat*(k)) + (bhat/ahat)*k + \\\n",
    "    (1 + ahat)/ahat*x0[0] - bhat/ahat**2\n",
    "ff_x1_kp1 = sp.lambdify(k, x1_kp1, 'numpy')\n",
    "\n",
    "m = 6\n",
    "x1hat = np.zeros(m)\n",
    "x1hat[0] = x1[0]\n",
    "x1hat[1:] = ff_x1_kp1(np.arange(1, m))\n",
    "x0hat = np.zeros(m)\n",
    "x0hat[0] = x1hat[0]\n",
    "for i in range(1, m):\n",
    "    x0hat[i] = x1hat[i] - x1hat[i-1]\n",
    "x0hat"
   ]
  },
  {
   "cell_type": "markdown",
   "metadata": {},
   "source": [
    "抽象为函数"
   ]
  },
  {
   "cell_type": "code",
   "execution_count": 20,
   "metadata": {},
   "outputs": [],
   "source": [
    "def DGM2_1(x0, m):\n",
    "    \"\"\"\n",
    "    x0: 参考数据列\n",
    "    m: 期望的预测序列长度\n",
    "    RETURN: \n",
    "        if 通过级比检验 then (预测序列 x0hat，长度为 m, 参数列 u=[a, b])\n",
    "        else 可容覆盖 (bd_left, bd_right)\n",
    "    \"\"\"\n",
    "    n = len(x0)\n",
    "    ratio = x0[:-1]/x0[1:]\n",
    "    bd_left, bd_right = np.exp(-2/(n+1)), np.exp(2/(n+1))\n",
    "    if not(all(bd_left < ratio) and all(ratio < bd_right)):   # 通过了级比检验\n",
    "        print(\"级比检验未通过\")\n",
    "        return (bd_left, bd_right)\n",
    "\n",
    "    x1 = np.cumsum(x0)\n",
    "    ax0 = x0[1:] - x0[:-1]\n",
    "    B = np.vstack([-x0[1:], np.ones(n-1)]).T\n",
    "    Y = ax0\n",
    "    ahat, bhat = np.linalg.inv(B.T @ B) @ B.T @ Y\n",
    "\n",
    "    k = sp.symbols('k', integer=True, nonneg=True)\n",
    "    x1_kp1 = (bhat/ahat**2 - x0[0]/ahat)*sp.exp(-ahat*(k)) + (bhat/ahat)*k + \\\n",
    "        (1 + ahat)/ahat*x0[0] - bhat/ahat**2\n",
    "    ff_x1_kp1 = sp.lambdify(k, x1_kp1, 'numpy')\n",
    "\n",
    "    x1hat = np.zeros(m)\n",
    "    x1hat[0] = x1[0]\n",
    "    x1hat[1:] = ff_x1_kp1(np.arange(1, m))\n",
    "    x0hat = np.zeros(m)\n",
    "    x0hat[0] = x1hat[0]\n",
    "    for i in range(1, m):\n",
    "        x0hat[i] = x1hat[i] - x1hat[i-1]\n",
    "    return x0hat, (ahat, bhat)"
   ]
  },
  {
   "cell_type": "code",
   "execution_count": 21,
   "metadata": {},
   "outputs": [
    {
     "data": {
      "text/plain": [
       "array([2.874     , 3.08600136, 3.40883478, 3.62010527, 3.75836611,\n",
       "       3.84884755, 3.90806093, 3.94681169, 3.97217118, 3.98876708])"
      ]
     },
     "execution_count": 21,
     "metadata": {},
     "output_type": "execute_result"
    }
   ],
   "source": [
    "x0hat, uhat = DGM2_1(x0, 10)\n",
    "x0hat"
   ]
  },
  {
   "cell_type": "code",
   "execution_count": 22,
   "metadata": {},
   "outputs": [
    {
     "data": {
      "text/plain": [
       "(array([0.        , 0.05857189, 0.00555598, 0.01600835, 0.00308591,\n",
       "        0.01285462]),\n",
       " array([0.42996349, 0.37131354, 0.40090628, 0.36552678, 0.354966  ]))"
      ]
     },
     "execution_count": 22,
     "metadata": {},
     "output_type": "execute_result"
    }
   ],
   "source": [
    "rela_err(x0, x0hat), ratio_err(x0, uhat)"
   ]
  },
  {
   "cell_type": "markdown",
   "metadata": {},
   "source": [
    "#### 3. 灰色 Verhulst 预测模型\n",
    "Verhulst 模型主要用来描述具有饱和状态的过程，即 S 形过程，常用于人口预测、生物生长、繁殖预测及产品经济寿命预测等\n",
    "\n",
    "1. 模型准备\n",
    "\n",
    "   原始序列 $\\boldsymbol x^{(0)}$，1-AGO 序列 $\\boldsymbol x^{(1)}$，$\\boldsymbol x^{(1)}$ 的均值生成序列 $\\boldsymbol z^{(1)}$\n",
    "   $$\n",
    "   \\boldsymbol B =\n",
    "      \\begin{bmatrix}\n",
    "      -z^{(1)}(2) &\\left(z^{(1)}(2)\\right)^2\\\\\n",
    "      -z^{(1)}(3) &\\left(z^{(1)}(3)\\right)^2\\\\\n",
    "      \\vdots      &\\vdots                   \\\\\n",
    "      -z^{(1)}(n) &\\left(z^{(1)}(n)\\right)^2\n",
    "      \\end{bmatrix},\\ \n",
    "   \\boldsymbol Y=\n",
    "   \\begin{bmatrix}\n",
    "   x^{(0)}(2)\\\\\n",
    "   x^{(0)}(3)\\\\\n",
    "   \\vdots\\\\\n",
    "   x^{(0)}(n)\n",
    "   \\end{bmatrix}\n",
    "   $$\n",
    "   $$\n",
    "   \\hat{\\boldsymbol u}=\\left[\\hat a, \\hat b\\right]^{\\rm T}=\\left(\\boldsymbol B^{\\rm T}\\boldsymbol B\\right)^{-1}\\boldsymbol B^{\\rm T}\\boldsymbol Y,\n",
    "   $$"
   ]
  },
  {
   "cell_type": "markdown",
   "metadata": {},
   "source": [
    "2. 建立模型\n",
    "   \n",
    "   Verhulst 模型\n",
    "   $$\n",
    "   x^{(0)}(k)+az^{(1)}(k)=b\\left[z^{(1)}(k)\\right]^2\n",
    "   $$\n",
    "   白化方程\n",
    "   $$\n",
    "   \\dfrac{{\\rm d}x^{(1)}(t)}{{\\rm d}t} + ax^{(1)}(t)=b\\left[x^{(1)}(t)\\right]^2\n",
    "   $$\n",
    "   时间响应序列\n",
    "   $$\n",
    "   \\hat x^{(1)}(k+1)=\\dfrac{\\hat ax^{(0)}(1)}{\\hat bx^{(0)}(1)+\\left(\\hat a-\\hat bx^{(0)}(1)\\right){\\rm e}^{\\hat ak}}\n",
    "   $$\n",
    "   累减还原式\n",
    "   $$\n",
    "   \\hat x^{(0)}(k+1)=\\hat x^{(1)}(k+1) - \\hat x^{(1)}(k)\n",
    "   $$"
   ]
  },
  {
   "cell_type": "code",
   "execution_count": 23,
   "metadata": {},
   "outputs": [
    {
     "data": {
      "text/plain": [
       "True"
      ]
     },
     "execution_count": 23,
     "metadata": {},
     "output_type": "execute_result"
    }
   ],
   "source": [
    "x0 = np.array([2.874,3.278,3.39,3.679,3.77,3.8])  #原始序列\n",
    "n = len(x0)\n",
    "ratio = x0[:-1]/x0[1:]\n",
    "bd_left, bd_right = np.exp(-2/(n+1)), np.exp(2/(n+1))\n",
    "all(bd_left < ratio) and all(ratio < bd_right)  # 未通过级比检验"
   ]
  },
  {
   "cell_type": "code",
   "execution_count": 24,
   "metadata": {},
   "outputs": [
    {
     "data": {
      "image/png": "[encoded data removed]",
      "text/latex": [
       "$\\displaystyle \\left( -0.624332224516947, \\  -0.0233127228507022\\right)$"
      ],
      "text/plain": [
       "(-0.6243322245169468, -0.023312722850702204)"
      ]
     },
     "execution_count": 24,
     "metadata": {},
     "output_type": "execute_result"
    }
   ],
   "source": [
    "x1 = np.cumsum(x0)\n",
    "z1 = 0.5*x1[1:] + 0.5*x1[:-1]\n",
    "B = np.vstack([-z1, z1**2]).T\n",
    "Y = x0[1:]\n",
    "ahat, bhat = np.linalg.inv(B.T @ B) @ B.T @ Y\n",
    "ahat, bhat"
   ]
  },
  {
   "cell_type": "code",
   "execution_count": 25,
   "metadata": {},
   "outputs": [
    {
     "data": {
      "text/plain": [
       "array([2.874     , 2.03500708, 2.99928594, 3.84688738, 4.14190569,\n",
       "       3.69807491, 2.78904728, 1.84732771, 1.12065967, 0.64395847])"
      ]
     },
     "execution_count": 25,
     "metadata": {},
     "output_type": "execute_result"
    }
   ],
   "source": [
    "k = sp.symbols('k', integer=True, nonneg=True)\n",
    "x1_kp1 = (ahat*x0[0])/(bhat*x0[0] + (ahat - bhat*x0[0])*sp.exp(ahat*k))\n",
    "ff_x1_kp1 = sp.lambdify(k, x1_kp1, 'numpy')\n",
    "\n",
    "m = 10      # 所希望的预测序列的长度（含已知序列）\n",
    "x1hat = np.zeros(m)\n",
    "x1hat[0] = x1[0]\n",
    "x1hat[1:] = ff_x1_kp1(np.arange(1, m))\n",
    "x0hat = np.zeros(m)\n",
    "x0hat[0] = x1hat[0]\n",
    "for i in range(1, m):\n",
    "    x0hat[i] = x1hat[i] - x1hat[i-1]\n",
    "x0hat"
   ]
  },
  {
   "cell_type": "markdown",
   "metadata": {},
   "source": [
    "抽象成函数"
   ]
  },
  {
   "cell_type": "code",
   "execution_count": 26,
   "metadata": {},
   "outputs": [],
   "source": [
    "def Verhulst(x0, m):\n",
    "    \"\"\"\n",
    "    x0: 参考数据列\n",
    "    m: 期望的预测序列长度\n",
    "    RETURN: \n",
    "        if 通过级比检验 then (预测序列 x0hat，长度为 m, 参数列 u=[a, b])\n",
    "        else 可容覆盖 (bd_left, bd_right)\n",
    "    \"\"\"\n",
    "    if not(all(bd_left < ratio) and all(ratio < bd_right)):   # 通过了级比检验\n",
    "        print(\"级比检验未通过\")\n",
    "        return (bd_left, bd_right)\n",
    "\n",
    "    x1 = np.cumsum(x0)\n",
    "    z1 = 0.5*x1[1:] + 0.5*x1[:-1]\n",
    "    B = np.vstack([-z1, z1**2]).T\n",
    "    Y = x0[1:]\n",
    "    ahat, bhat = np.linalg.inv(B.T @ B) @ B.T @ Y\n",
    "\n",
    "    k = sp.symbols('k', integer=True, nonneg=True)\n",
    "    x1_kp1 = (ahat*x0[0])/(bhat*x0[0] + (ahat - bhat*x0[0])*sp.exp(ahat*k))\n",
    "    ff_x1_kp1 = sp.lambdify(k, x1_kp1, 'numpy')\n",
    "\n",
    "    x1hat = np.zeros(m)\n",
    "    x1hat[0] = x1[0]\n",
    "    x1hat[1:] = ff_x1_kp1(np.arange(1, m))\n",
    "    x0hat = np.zeros(m)\n",
    "    x0hat[0] = x1hat[0]\n",
    "    for i in range(1, m):\n",
    "        x0hat[i] = x1hat[i] - x1hat[i-1]\n",
    "    return x0hat, (ahat, bhat)"
   ]
  },
  {
   "cell_type": "code",
   "execution_count": 27,
   "metadata": {},
   "outputs": [
    {
     "data": {
      "text/plain": [
       "array([2.874     , 2.03500708, 2.99928594, 3.84688738, 4.14190569,\n",
       "       3.69807491, 2.78904728, 1.84732771, 1.12065967, 0.64395847])"
      ]
     },
     "execution_count": 27,
     "metadata": {},
     "output_type": "execute_result"
    }
   ],
   "source": [
    "x0hat, uhat = Verhulst(x0, 10)\n",
    "x0hat"
   ]
  },
  {
   "cell_type": "code",
   "execution_count": 28,
   "metadata": {},
   "outputs": [
    {
     "data": {
      "text/plain": [
       "(array([0.        , 0.37919247, 0.11525488, 0.04563397, 0.09864873,\n",
       "        0.02682239]),\n",
       " array([0.67256523, 0.84465223, 0.75782307, 0.86163136, 0.89261816]))"
      ]
     },
     "execution_count": 28,
     "metadata": {},
     "output_type": "execute_result"
    }
   ],
   "source": [
    "rela_err(x0, x0hat), ratio_err(x0, uhat)"
   ]
  }
 ],
 "metadata": {
  "kernelspec": {
   "display_name": "Python 3.9.12 ('mamo')",
   "language": "python",
   "name": "python3"
  },
  "language_info": {
   "codemirror_mode": {
    "name": "ipython",
    "version": 3
   },
   "file_extension": ".py",
   "mimetype": "text/x-python",
   "name": "python",
   "nbconvert_exporter": "python",
   "pygments_lexer": "ipython3",
   "version": "3.9.12"
  },
  "orig_nbformat": 4,
  "vscode": {
   "interpreter": {
    "hash": "bc4866e053c759d6a7b6c75a6ee7f30413af3cb1408278924a32b7c27fdde7d0"
   }
  }
 },
 "nbformat": 4,
 "nbformat_minor": 2
}
